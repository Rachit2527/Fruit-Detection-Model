{
  "cells": [
    {
      "cell_type": "code",
      "execution_count": null,
      "metadata": {
        "id": "xUKJIBfwEAuO"
      },
      "outputs": [],
      "source": [
        "!mkdir -p ~/.kaggle\n",
        "!cp kaggle.json ~/.kaggle/\n",
        "\n"
      ]
    },
    {
      "cell_type": "code",
      "execution_count": null,
      "metadata": {
        "colab": {
          "base_uri": "https://localhost:8080/"
        },
        "id": "7-o-FLYlHqcP",
        "outputId": "b820d621-2024-41ec-aee3-f89e8eba4e99"
      },
      "outputs": [
        {
          "output_type": "stream",
          "name": "stdout",
          "text": [
            "Warning: Your Kaggle API key is readable by other users on this system! To fix this, you can run 'chmod 600 /root/.kaggle/kaggle.json'\n",
            "Downloading fruits.zip to /content\n",
            "100% 1.28G/1.28G [00:10<00:00, 182MB/s]\n",
            "100% 1.28G/1.28G [00:10<00:00, 126MB/s]\n"
          ]
        }
      ],
      "source": [
        "!kaggle datasets download -d moltean/fruits\n"
      ]
    },
    {
      "cell_type": "code",
      "execution_count": null,
      "metadata": {
        "id": "WsVCvNeDEK22"
      },
      "outputs": [],
      "source": [
        "import zipfile\n",
        "zip_ref = zipfile.ZipFile('/content/fruits.zip', 'r')\n",
        "zip_ref.extractall('/content')\n",
        "zip_ref.close()"
      ]
    },
    {
      "cell_type": "code",
      "execution_count": null,
      "metadata": {
        "id": "Swpg5MZHH87M"
      },
      "outputs": [],
      "source": [
        "train_path = \"/content/fruits-360_dataset/fruits-360/Training\"\n",
        "test_path  = \"/content/fruits-360_dataset/fruits-360/Test\""
      ]
    },
    {
      "cell_type": "code",
      "source": [
        "from keras.applications import VGG16"
      ],
      "metadata": {
        "id": "0Cra-_IVLDR-"
      },
      "execution_count": null,
      "outputs": []
    },
    {
      "cell_type": "markdown",
      "metadata": {
        "id": "_Z-h_rX43flz"
      },
      "source": []
    },
    {
      "cell_type": "code",
      "execution_count": null,
      "metadata": {
        "id": "iMGA7TP2JjWi"
      },
      "outputs": [],
      "source": [
        "import numpy as mp\n",
        "import pandas as pd\n",
        "import matplotlib.pyplot as plt\n",
        "import seaborn as sns\n",
        "import cv2\n",
        "from google.colab.patches import cv2_imshow"
      ]
    },
    {
      "cell_type": "code",
      "execution_count": null,
      "metadata": {
        "colab": {
          "base_uri": "https://localhost:8080/",
          "height": 135
        },
        "id": "U8qgd5fgJsZ5",
        "outputId": "ed4c1f14-0794-4757-c0d4-798d731d0338"
      },
      "outputs": [
        {
          "output_type": "display_data",
          "data": {
            "text/plain": [
              "<PIL.Image.Image image mode=RGB size=100x100>"
            ],
            "image/png": "[encoded data removed]"
          },
          "metadata": {}
        },
        {
          "output_type": "execute_result",
          "data": {
            "text/plain": [
              "(100, 100, 3)"
            ]
          },
          "metadata": {},
          "execution_count": 9
        }
      ],
      "source": [
        "img = cv2.imread(\"/content/fruits-360_dataset/fruits-360/Training/Banana/0_100.jpg\")\n",
        "cv2_imshow(img)\n",
        "img.shape\n",
        "\n"
      ]
    },
    {
      "cell_type": "code",
      "execution_count": null,
      "metadata": {
        "id": "l0fW1OxOMeDz"
      },
      "outputs": [],
      "source": []
    },
    {
      "cell_type": "code",
      "execution_count": null,
      "metadata": {
        "id": "7whKKQuiMeGV"
      },
      "outputs": [],
      "source": [
        "from keras.models import Sequential\n",
        "from keras.layers import Conv2D,MaxPooling2D,Activation,Dropout,Flatten,Dense"
      ]
    },
    {
      "cell_type": "code",
      "execution_count": null,
      "metadata": {
        "colab": {
          "base_uri": "https://localhost:8080/"
        },
        "id": "4YMeWQWUKt0S",
        "outputId": "283edeb2-ef20-4772-f647-5a6c3a277ead"
      },
      "outputs": [
        {
          "output_type": "stream",
          "name": "stdout",
          "text": [
            "Model: \"sequential\"\n",
            "_________________________________________________________________\n",
            " Layer (type)                Output Shape              Param #   \n",
            "=================================================================\n",
            " conv2d (Conv2D)             (None, 98, 98, 128)       3584      \n",
            "                                                                 \n",
            " conv2d_1 (Conv2D)           (None, 96, 96, 64)        73792     \n",
            "                                                                 \n",
            " max_pooling2d (MaxPooling2D  (None, 48, 48, 64)       0         \n",
            " )                                                               \n",
            "                                                                 \n",
            " conv2d_2 (Conv2D)           (None, 46, 46, 32)        18464     \n",
            "                                                                 \n",
            " max_pooling2d_1 (MaxPooling  (None, 23, 23, 32)       0         \n",
            " 2D)                                                             \n",
            "                                                                 \n",
            " dropout (Dropout)           (None, 23, 23, 32)        0         \n",
            "                                                                 \n",
            " flatten (Flatten)           (None, 16928)             0         \n",
            "                                                                 \n",
            " dense (Dense)               (None, 5000)              84645000  \n",
            "                                                                 \n",
            " dense_1 (Dense)             (None, 1000)              5001000   \n",
            "                                                                 \n",
            " dense_2 (Dense)             (None, 131)               131131    \n",
            "                                                                 \n",
            "=================================================================\n",
            "Total params: 89,872,971\n",
            "Trainable params: 89,872,971\n",
            "Non-trainable params: 0\n",
            "_________________________________________________________________\n"
          ]
        }
      ],
      "source": [
        "model = Sequential()\n",
        "\n",
        "model.add(Conv2D(128,kernel_size =(3,3),padding='valid',activation='relu',input_shape=(100,100,3)))\n",
        "\n",
        "\n",
        "model.add(Conv2D(64,kernel_size =(3,3),padding='valid',activation='relu'))\n",
        "model.add(MaxPooling2D(pool_size =(2,2),strides =2,padding='valid'))\n",
        "\n",
        "\n",
        "model.add(Conv2D(32,kernel_size =(3,3),padding='valid',activation='relu'))\n",
        "model.add(MaxPooling2D(pool_size =(2,2),strides =2,padding='valid'))\n",
        "model.add(Dropout(0.5))\n",
        "\n",
        "\n",
        "\n",
        "model.add(Flatten())\n",
        "\n",
        "model.add(Dense(5000,activation='relu'))\n",
        "\n",
        "model.add(Dense(1000,activation='relu'))\n",
        "\n",
        "model.add(Dense(131,activation='softmax'))\n",
        "model.summary()"
      ]
    },
    {
      "cell_type": "code",
      "execution_count": null,
      "metadata": {
        "id": "hgri4DZ2OTxA",
        "colab": {
          "base_uri": "https://localhost:8080/"
        },
        "outputId": "a8b7bb44-4be5-426d-e846-c86c7f02d606"
      },
      "outputs": [
        {
          "output_type": "stream",
          "name": "stdout",
          "text": [
            "Found 67692 images belonging to 131 classes.\n",
            "Found 22688 images belonging to 131 classes.\n"
          ]
        }
      ],
      "source": [
        "model.compile(loss = \"categorical_crossentropy\" ,optimizer = \"SGD\" ,metrics = ['accuracy'])\n",
        "from keras.preprocessing.image import ImageDataGenerator\n",
        "train_datagen = ImageDataGenerator(\n",
        "                    rescale =1./255,\n",
        "                    shear_range=0.3,\n",
        "                    zoom_range=0.3,\n",
        "                    horizontal_flip=True,\n",
        "                    fill_mode='nearest'\n",
        "\n",
        ")\n",
        "\n",
        "test_datagen  = ImageDataGenerator (\n",
        "                      rescale =1./255\n",
        ")\n",
        "\n",
        "train_generator = train_datagen.flow_from_directory(\n",
        "    train_path,\n",
        "    color_mode = 'rgb',\n",
        "\n",
        "    batch_size=32,\n",
        "    target_size=(100,100),\n",
        "    class_mode='categorical',\n",
        "    shuffle=True\n",
        ")\n",
        "\n",
        "test_generator = test_datagen.flow_from_directory(\n",
        "    test_path,\n",
        "    color_mode = 'rgb',\n",
        "\n",
        "    batch_size=32,\n",
        "    target_size=(100,100),\n",
        "    class_mode='categorical',\n",
        "    shuffle=True\n",
        ")\n",
        "\n",
        "\n",
        "import numpy as np\n",
        "import pandas as pd"
      ]
    },
    {
      "cell_type": "code",
      "execution_count": null,
      "metadata": {
        "id": "X9i7fz66OUGl"
      },
      "outputs": [],
      "source": [
        "from keras.preprocessing.image import ImageDataGenerator"
      ]
    },
    {
      "cell_type": "code",
      "execution_count": null,
      "metadata": {
        "colab": {
          "base_uri": "https://localhost:8080/"
        },
        "id": "GHjYULA4OtIz",
        "outputId": "cbbba961-7a70-4494-cc32-2b9977c9ca20"
      },
      "outputs": [
        {
          "output_type": "stream",
          "name": "stdout",
          "text": [
            "Epoch 1/5\n",
            "2116/2116 [==============================] - 283s 128ms/step - loss: 2.4861 - accuracy: 0.3714 - val_loss: 0.6656 - val_accuracy: 0.7890\n",
            "Epoch 2/5\n",
            "2116/2116 [==============================] - 269s 127ms/step - loss: 0.4261 - accuracy: 0.8656 - val_loss: 0.2384 - val_accuracy: 0.9307\n",
            "Epoch 3/5\n",
            "2116/2116 [==============================] - 263s 124ms/step - loss: 0.1590 - accuracy: 0.9479 - val_loss: 0.1686 - val_accuracy: 0.9522\n",
            "Epoch 4/5\n",
            "2116/2116 [==============================] - 272s 128ms/step - loss: 0.0917 - accuracy: 0.9706 - val_loss: 0.1320 - val_accuracy: 0.9611\n",
            "Epoch 5/5\n",
            "2116/2116 [==============================] - 269s 127ms/step - loss: 0.1141 - accuracy: 0.9719 - val_loss: 0.1811 - val_accuracy: 0.9525\n"
          ]
        }
      ],
      "source": [
        "history = model.fit(train_generator,\n",
        "                    epochs=5,\n",
        "                    validation_data=test_generator,\n",
        "                    )"
      ]
    },
    {
      "cell_type": "code",
      "execution_count": null,
      "metadata": {
        "id": "nQ_6XO8zW3WT"
      },
      "outputs": [],
      "source": [
        "import numpy as np\n",
        "import pandas as pd"
      ]
    },
    {
      "cell_type": "code",
      "source": [
        "predict = model.predict('/content/fruits-360_dataset/fruits-360/Training/Apple Golden 2')\n"
      ],
      "metadata": {
        "id": "z_JVXPwdn2hM"
      },
      "execution_count": null,
      "outputs": []
    },
    {
      "cell_type": "code",
      "execution_count": null,
      "metadata": {
        "id": "AifX45qJVwdc"
      },
      "outputs": [],
      "source": [
        "test_img = cv2.imread('/content/banana.jpg')\n",
        "test_img = cv2.resize(test_img,(100,100))\n",
        "test_input1 = test_img.reshape((1,100,100,3))\n",
        "prediction = model.predict(test_input1)\n",
        "pred_label = np.argmax(prediction)\n",
        "print(pred_label)\n"
      ]
    },
    {
      "cell_type": "code",
      "execution_count": null,
      "metadata": {
        "id": "0TzB8D1eW1U1"
      },
      "outputs": [],
      "source": [
        "import os\n",
        "folder = '/content/fruits-360_dataset/fruits-360/Test'\n",
        "sub_folder = [name for name in os.listdir(folder) if os.path.isdir(os.path.join(folder,name))]"
      ]
    },
    {
      "cell_type": "code",
      "execution_count": null,
      "metadata": {
        "id": "CgGefEYgXnyL"
      },
      "outputs": [],
      "source": [
        "sub_folder[54]"
      ]
    },
    {
      "cell_type": "code",
      "execution_count": null,
      "metadata": {
        "id": "XXVvDAyGXvF0"
      },
      "outputs": [],
      "source": []
    }
  ],
  "metadata": {
    "accelerator": "GPU",
    "colab": {
      "provenance": []
    },
    "kernelspec": {
      "display_name": "Python 3",
      "name": "python3"
    },
    "language_info": {
      "name": "python"
    }
  },
  "nbformat": 4,
  "nbformat_minor": 0
}